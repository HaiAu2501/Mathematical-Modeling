{
 "cells": [
  {
   "cell_type": "markdown",
   "metadata": {},
   "source": [
    "# Actor - Critic Algorithm"
   ]
  },
  {
   "cell_type": "code",
   "execution_count": 1,
   "metadata": {},
   "outputs": [],
   "source": [
    "import torch\n",
    "import torch.nn as nn\n",
    "import torch.optim as optim\n",
    "import numpy as np\n",
    "import gym"
   ]
  },
  {
   "cell_type": "markdown",
   "metadata": {
    "vscode": {
     "languageId": "plaintext"
    }
   },
   "source": [
    "In Reinforcement Learning, Actor - Critic Algorithm combines the advantages of value-based and policy-based methods. It consists of two main components:\n",
    "\n",
    "1. Actor: It is a policy-based method that learns the optimal policy by directly mapping states to actions. The actor is responsible for selecting an action given a state. Its goal is to maximize the expected return.\n",
    "\n",
    "2. Critic: It is a value-based method that learns the value function. The critic evaluates the action taken by the actor. It calculates the advantage function and updates the actor's policy. The critic's role is to provide feedback to the actor, guiding it towards better actions.\n",
    "\n",
    "Both the actor and critic are neural networks that are trained simultaneously. The actor is updated using the advantage function, which is the difference between the value of the action taken and the value of the action recommended by the actor. The critic is updated using the temporal difference error, which is the difference between the predicted value and the actual return."
   ]
  },
  {
   "cell_type": "markdown",
   "metadata": {},
   "source": [
    "# Advantage Actor Critic (A2C)"
   ]
  }
 ],
 "metadata": {
  "kernelspec": {
   "display_name": "Python 3",
   "language": "python",
   "name": "python3"
  },
  "language_info": {
   "codemirror_mode": {
    "name": "ipython",
    "version": 3
   },
   "file_extension": ".py",
   "mimetype": "text/x-python",
   "name": "python",
   "nbconvert_exporter": "python",
   "pygments_lexer": "ipython3",
   "version": "3.12.0"
  }
 },
 "nbformat": 4,
 "nbformat_minor": 2
}
